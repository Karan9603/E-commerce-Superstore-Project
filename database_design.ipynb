{
 "cells": [
  {
   "cell_type": "code",
   "execution_count": 1,
   "metadata": {},
   "outputs": [],
   "source": [
    "import pandas as pd\n",
    "import os\n",
    "import sqlite3\n",
    "from sqlite3 import Error"
   ]
  },
  {
   "cell_type": "code",
   "execution_count": 2,
   "metadata": {},
   "outputs": [],
   "source": [
    "S_data = pd.read_csv(r'C:\\Data Analysis - Files\\Project 5 - Superstore\\Sample-Superstore.csv', sep=',', encoding='latin1', on_bad_lines='skip')"
   ]
  },
  {
   "cell_type": "code",
   "execution_count": 3,
   "metadata": {},
   "outputs": [],
   "source": [
    "S_data = S_data.drop(columns=['Row ID'])\n",
    "S_data = S_data.rename(columns={'Order ID': 'Order_ID', 'Customer ID': 'Customer_ID', 'Product ID': 'Product_ID'})"
   ]
  },
  {
   "cell_type": "code",
   "execution_count": 4,
   "metadata": {},
   "outputs": [],
   "source": [
    "#Creating an empty sqlite database to populate with the newly created CSVs\n",
    "conn = sqlite3.connect(\"superstore_database.db\")"
   ]
  },
  {
   "cell_type": "code",
   "execution_count": 5,
   "metadata": {},
   "outputs": [],
   "source": [
    "# Establishing a cursor object (a tool that executes SQL code against the database)\n",
    "c = conn.cursor()"
   ]
  },
  {
   "cell_type": "code",
   "execution_count": 6,
   "metadata": {},
   "outputs": [
    {
     "data": {
      "text/plain": [
       "<sqlite3.Cursor at 0x22b4dc77e40>"
      ]
     },
     "execution_count": 6,
     "metadata": {},
     "output_type": "execute_result"
    }
   ],
   "source": [
    "#create the (empty) tables which will be included in the database.\n",
    "\n",
    "#Product_Details\n",
    "\n",
    "c.execute('''\n",
    "CREATE TABLE IF NOT EXISTS \"Product_Details\" (\n",
    "\t\"Product_ID\"\tCHAR(20) NOT NULL,\n",
    "\t\"Category\"\tVARCHAR(30) NOT NULL,\n",
    "\t\"Sub-Category\"\tVARCHAR(30) NOT NULL,\n",
    "    \"Product Name\"\tVARCHAR(30) NOT NULL,\n",
    "\tPRIMARY KEY(\"Product_ID\")\n",
    ");\n",
    "''')\n",
    "\n",
    "c.execute('''\n",
    "CREATE TABLE IF NOT EXISTS \"Customer_Details\" (\n",
    "\t\"Customer_ID\"\tCHAR(30) NOT NULL,\n",
    "\t\"Customer Name\"\tVARCHAR(30) NOT NULL,\n",
    "\t\"Segment\"\tVARCHAR(15) NOT NULL,\n",
    "\tPRIMARY KEY(\"Customer_ID\")\n",
    ");\n",
    "''')\n",
    "\n",
    "c.execute('''\n",
    "CREATE TABLE IF NOT EXISTS \"Address_Details\" (\n",
    "\t\"Address_ID\" INTEGER PRIMARY KEY AUTOINCREMENT,\n",
    "  \t\"Country\" text NOT NULL,\n",
    "  \t\"City\" text NOT NULL,\n",
    "  \t\"State\" text NOT NULL,\n",
    "  \t\"Postal Code\" integer NOT NULL,\n",
    "  \t\"Region\" text NOT NULL\n",
    ");\n",
    "''')\n",
    "\n",
    "c.execute('''\n",
    "CREATE TABLE IF NOT EXISTS \"Order_Details\" (\n",
    "\t\"Order_ID\"\tCHAR(20) NOT NULL,\n",
    "\t\"Order Date\" date NOT NULL,\n",
    "    \"Ship Date\" date NOT NULL, \n",
    "    \"Ship Mode\" varchar NOT NULL,\n",
    "    \"Customer_ID\" varchar NOT NULL,\n",
    "\tPRIMARY KEY(\"Order_ID\"),\n",
    "\tFOREIGN KEY(Customer_ID) REFERENCES Customer_Details(Customer_ID)\n",
    ");\n",
    "''')\n",
    "\n",
    "c.execute('''\n",
    "CREATE TABLE IF NOT EXISTS \"Product_Sales\" (\n",
    "\t\"Sales\" integer NOT NULL,\n",
    "    \"Quantity\"  integer NOT NULL,\n",
    "    \"Discount\"  integer NOT NULL,\n",
    "    \"Profit\"  integer NOT NULL,\n",
    "    \"Order_ID\" varchar NOT NULL,\n",
    "    \"Product_ID\" varchar NOT NULL,\n",
    "    FOREIGN KEY(Order_ID) REFERENCES Order_Details(Order_ID),\n",
    "    FOREIGN KEY(Product_ID) REFERENCES Product_Details(Product_ID)\n",
    ");\n",
    "''')\n",
    "\n",
    "c.execute('''\n",
    "CREATE TABLE IF NOT EXISTS \"Customer_address_junction\" (\n",
    "    Customer_ID INTEGER,\n",
    "    Address_ID INTEGER,\n",
    "    PRIMARY KEY (Customer_ID, Address_ID),\n",
    "    FOREIGN KEY (Customer_ID) REFERENCES Customer_Details(Customer_ID),\n",
    "    FOREIGN KEY (Address_ID) REFERENCES Address_Details(Address_ID)\n",
    ");\n",
    "''')"
   ]
  },
  {
   "cell_type": "code",
   "execution_count": 7,
   "metadata": {},
   "outputs": [
    {
     "name": "stdout",
     "output_type": "stream",
     "text": [
      "<class 'pandas.core.frame.DataFrame'>\n",
      "Index: 9993 entries, 0 to 9993\n",
      "Data columns (total 6 columns):\n",
      " #   Column      Non-Null Count  Dtype  \n",
      "---  ------      --------------  -----  \n",
      " 0   Sales       9993 non-null   float64\n",
      " 1   Quantity    9993 non-null   int64  \n",
      " 2   Discount    9993 non-null   float64\n",
      " 3   Profit      9993 non-null   float64\n",
      " 4   Order_ID    9993 non-null   object \n",
      " 5   Product_ID  9993 non-null   object \n",
      "dtypes: float64(3), int64(1), object(2)\n",
      "memory usage: 546.5+ KB\n"
     ]
    }
   ],
   "source": [
    "# If the table already exists and you want to append data:\n",
    "S_data_order = S_data [[\"Order_ID\",\"Order Date\",\"Ship Date\",\"Ship Mode\",\"Customer_ID\"]]\n",
    "S_data_order = S_data_order.drop_duplicates(subset=['Order_ID'])\n",
    "S_data_order.to_sql('Order_Details', conn, if_exists='append', index=False)\n",
    "\n",
    "S_data_Customer = S_data [[\"Customer_ID\",\"Customer Name\",\"Segment\"]]\n",
    "S_data_Customer = S_data_Customer.drop_duplicates(subset=['Customer_ID'])\n",
    "S_data_Customer.to_sql('Customer_Details', conn, if_exists='append', index=False)\n",
    "\n",
    "S_data_Address = S_data [[\"Country\",\"City\",\t\"State\",\"Postal Code\", \"Region\"]]\n",
    "S_data_Address = S_data_Address.drop_duplicates()\n",
    "#S_data_Address.info()\n",
    "S_data_Address.to_sql('Address_Details', conn, if_exists='append', index=False)\n",
    "\n",
    "S_data_Product = S_data [[\"Product_ID\", \"Category\", \"Sub-Category\", \"Product Name\"]]\n",
    "S_data_Product = S_data_Product.drop_duplicates(subset=['Product_ID'])\n",
    "#S_data_Product.info()\n",
    "S_data_Product.to_sql('Product_Details', conn, if_exists='append', index=False)\n",
    "\n",
    "S_data_Product_Sales = S_data [[\"Sales\", \"Quantity\", \"Discount\", \"Profit\", \"Order_ID\", \"Product_ID\"]]\n",
    "S_data_Product_Sales = S_data_Product_Sales.drop_duplicates()\n",
    "S_data_Product_Sales.info()\n",
    "S_data_Product_Sales.to_sql('Product_Sales', conn, if_exists='append', index=False)\n",
    "\n",
    "#Commit changes and close the connection properly\n",
    "conn.commit()  # Commit changes\n",
    "#conn.close()   # Then close the connection\n"
   ]
  },
  {
   "cell_type": "code",
   "execution_count": 8,
   "metadata": {},
   "outputs": [
    {
     "name": "stdout",
     "output_type": "stream",
     "text": [
      "<class 'pandas.core.frame.DataFrame'>\n",
      "Index: 632 entries, 0 to 9881\n",
      "Data columns (total 5 columns):\n",
      " #   Column       Non-Null Count  Dtype \n",
      "---  ------       --------------  ----- \n",
      " 0   Country      632 non-null    object\n",
      " 1   City         632 non-null    object\n",
      " 2   State        632 non-null    object\n",
      " 3   Postal Code  632 non-null    int64 \n",
      " 4   Region       632 non-null    object\n",
      "dtypes: int64(1), object(4)\n",
      "memory usage: 29.6+ KB\n"
     ]
    },
    {
     "data": {
      "text/html": [
       "<div>\n",
       "<style scoped>\n",
       "    .dataframe tbody tr th:only-of-type {\n",
       "        vertical-align: middle;\n",
       "    }\n",
       "\n",
       "    .dataframe tbody tr th {\n",
       "        vertical-align: top;\n",
       "    }\n",
       "\n",
       "    .dataframe thead th {\n",
       "        text-align: right;\n",
       "    }\n",
       "</style>\n",
       "<table border=\"1\" class=\"dataframe\">\n",
       "  <thead>\n",
       "    <tr style=\"text-align: right;\">\n",
       "      <th></th>\n",
       "      <th>Address_ID</th>\n",
       "      <th>Full Address</th>\n",
       "    </tr>\n",
       "  </thead>\n",
       "  <tbody>\n",
       "    <tr>\n",
       "      <th>9760</th>\n",
       "      <td>628</td>\n",
       "      <td>United States Springdale Arkansas 72762 South</td>\n",
       "    </tr>\n",
       "    <tr>\n",
       "      <th>9801</th>\n",
       "      <td>629</td>\n",
       "      <td>United States Lodi California 95240 West</td>\n",
       "    </tr>\n",
       "    <tr>\n",
       "      <th>9834</th>\n",
       "      <td>630</td>\n",
       "      <td>United States La Porte Texas 77571 Central</td>\n",
       "    </tr>\n",
       "    <tr>\n",
       "      <th>9868</th>\n",
       "      <td>631</td>\n",
       "      <td>United States Mason Ohio 45040 East</td>\n",
       "    </tr>\n",
       "    <tr>\n",
       "      <th>9881</th>\n",
       "      <td>632</td>\n",
       "      <td>United States Woodstock Georgia 30188 South</td>\n",
       "    </tr>\n",
       "  </tbody>\n",
       "</table>\n",
       "</div>"
      ],
      "text/plain": [
       "      Address_ID                                   Full Address\n",
       "9760         628  United States Springdale Arkansas 72762 South\n",
       "9801         629       United States Lodi California 95240 West\n",
       "9834         630     United States La Porte Texas 77571 Central\n",
       "9868         631            United States Mason Ohio 45040 East\n",
       "9881         632    United States Woodstock Georgia 30188 South"
      ]
     },
     "execution_count": 8,
     "metadata": {},
     "output_type": "execute_result"
    }
   ],
   "source": [
    "S_data_Address.info()\n",
    "# Adding a sequential number column\n",
    "S_data_Address['Address_ID'] = range(1, len(S_data_Address) + 1)\n",
    "S_data_Address['Full Address'] = S_data['Country'] + ' ' + S_data['City'].fillna('') + ' ' + S_data['State'] + ' ' + S_data['Postal Code'].fillna('').astype(str) + ' ' + S_data['Region']\n",
    "S_data_Address = S_data_Address.drop([\"Country\", \"City\", \"State\", \"Postal Code\", \"Region\"],axis=1)\n",
    "S_data_Address.tail()"
   ]
  },
  {
   "cell_type": "code",
   "execution_count": 9,
   "metadata": {},
   "outputs": [
    {
     "name": "stdout",
     "output_type": "stream",
     "text": [
      "<class 'pandas.core.frame.DataFrame'>\n",
      "RangeIndex: 9994 entries, 0 to 9993\n",
      "Data columns (total 4 columns):\n",
      " #   Column                    Non-Null Count  Dtype \n",
      "---  ------                    --------------  ----- \n",
      " 0   Customer_ID               9994 non-null   object\n",
      " 1   Full Address with CustID  9994 non-null   object\n",
      " 2   Full Address              9994 non-null   object\n",
      " 3   Address_ID                9994 non-null   int64 \n",
      "dtypes: int64(1), object(3)\n",
      "memory usage: 312.4+ KB\n"
     ]
    }
   ],
   "source": [
    "S_data['Full Address'] = S_data['Country'] + ' ' + S_data['City'].fillna('') + ' ' + S_data['State'] + ' ' + S_data['Postal Code'].fillna('').astype(str) + ' ' + S_data['Region']\n",
    "S_data['Full Address with CustID'] = S_data['Customer_ID'] + ' ' + S_data['Country'] + ' ' + S_data['City'].fillna('') + ' ' + S_data['State'] + ' ' + S_data['Postal Code'].fillna('').astype(str) + ' ' + S_data['Region']\n",
    "unique_Address_with_CustID = S_data[['Customer_ID','Full Address with CustID', 'Full Address']]\n",
    "unique_Address_with_CustID_AddressID = pd.merge(unique_Address_with_CustID, S_data_Address, on='Full Address', how='left')\n",
    "unique_Address_with_CustID_AddressID.info()\n",
    "\n",
    "#S_data_Customer_Address = S_data['Customer_ID'] + ' ' + S_data['Full Address']\n",
    "#S_data_Customer_Address.info()\n",
    "#S_data_Customer_Address = S_data_Customer_Address.drop_duplicates()\n",
    "#S_data_Customer_Address.info()"
   ]
  },
  {
   "cell_type": "code",
   "execution_count": 10,
   "metadata": {},
   "outputs": [
    {
     "name": "stdout",
     "output_type": "stream",
     "text": [
      "<class 'pandas.core.frame.DataFrame'>\n",
      "Index: 4910 entries, 0 to 9993\n",
      "Data columns (total 4 columns):\n",
      " #   Column                    Non-Null Count  Dtype \n",
      "---  ------                    --------------  ----- \n",
      " 0   Customer_ID               4910 non-null   object\n",
      " 1   Full Address with CustID  4910 non-null   object\n",
      " 2   Full Address              4910 non-null   object\n",
      " 3   Address_ID                4910 non-null   int64 \n",
      "dtypes: int64(1), object(3)\n",
      "memory usage: 191.8+ KB\n",
      "<class 'pandas.core.frame.DataFrame'>\n",
      "Index: 4910 entries, 0 to 9993\n",
      "Data columns (total 2 columns):\n",
      " #   Column       Non-Null Count  Dtype \n",
      "---  ------       --------------  ----- \n",
      " 0   Customer_ID  4910 non-null   object\n",
      " 1   Address_ID   4910 non-null   int64 \n",
      "dtypes: int64(1), object(1)\n",
      "memory usage: 115.1+ KB\n"
     ]
    }
   ],
   "source": [
    "unique_Address_with_CustID_AddressID = unique_Address_with_CustID_AddressID.drop_duplicates(subset=['Full Address with CustID'])\n",
    "unique_Address_with_CustID_AddressID.info()\n",
    "unique_Address_with_CustID_AddressID = unique_Address_with_CustID_AddressID.drop(['Full Address with CustID','Full Address'],axis=1)\n",
    "unique_Address_with_CustID_AddressID.info()\n",
    "#unique_Address_with_CustID_AddressID = unique_Address_with_CustID_AddressID ['Customer_ID','Address_ID']\n",
    "#unique_Address_with_CustID_AddressID.to_sql('Customer_address_junction', conn, if_exists='append', index=False)"
   ]
  },
  {
   "cell_type": "code",
   "execution_count": 11,
   "metadata": {},
   "outputs": [],
   "source": [
    "\n",
    "unique_Address_with_CustID_AddressID.to_sql('Customer_address_junction', conn, if_exists='append', index=False)\n",
    "#Commit changes and close the connection properly\n",
    "conn.commit()  # Commit changes\n",
    "conn.close()   # Then close the connection"
   ]
  },
  {
   "cell_type": "code",
   "execution_count": 12,
   "metadata": {},
   "outputs": [
    {
     "name": "stdout",
     "output_type": "stream",
     "text": [
      "<class 'pandas.core.series.Series'>\n",
      "RangeIndex: 9994 entries, 0 to 9993\n",
      "Series name: Full Address with CustID\n",
      "Non-Null Count  Dtype \n",
      "--------------  ----- \n",
      "4910 non-null   object\n",
      "dtypes: object(1)\n",
      "memory usage: 78.2+ KB\n"
     ]
    }
   ],
   "source": [
    "S_data['Full Address with CustID'] = S_data['Full Address with CustID'].drop_duplicates()\n",
    "S_data['Full Address with CustID'].info()"
   ]
  }
 ],
 "metadata": {
  "kernelspec": {
   "display_name": "threeten",
   "language": "python",
   "name": "python3"
  },
  "language_info": {
   "codemirror_mode": {
    "name": "ipython",
    "version": 3
   },
   "file_extension": ".py",
   "mimetype": "text/x-python",
   "name": "python",
   "nbconvert_exporter": "python",
   "pygments_lexer": "ipython3",
   "version": "3.10.15"
  }
 },
 "nbformat": 4,
 "nbformat_minor": 2
}
